{
 "cells": [
  {
   "cell_type": "code",
   "execution_count": 54,
   "id": "cce87275-0eb9-4293-9500-61f6130b8a3c",
   "metadata": {},
   "outputs": [],
   "source": [
    "def format_trex_sample_file(file, outfile=None):\n",
    "    if outfile==None:\n",
    "        outfile=file\n",
    "    with open(file,'r') as f:\n",
    "        l = f.readlines()\n",
    "    new_yaml = []\n",
    "    for line in l:\n",
    "        if 'Sample' in line:\n",
    "            if '#Sample' in line:\n",
    "                continue\n",
    "            split = line.split(':')[-1]\n",
    "            if split[0] == ' ':\n",
    "                split = split[1:]\n",
    "            split = split[:-1] + ':' + split[-1:]\n",
    "            line = split\n",
    "        new_yaml.append(line)\n",
    "    with open(outfile, 'w') as f:\n",
    "        f.writelines(new_yaml)\n",
    "    return outfile"
   ]
  },
  {
   "cell_type": "code",
   "execution_count": 53,
   "id": "c64f86c6-2d57-4f0b-ab4e-b6aaa1891394",
   "metadata": {},
   "outputs": [],
   "source": [
    "def read_trex_samples(file, outfile=None, format=True):\n",
    "    if format:\n",
    "        file = format_trex_sample_file(file, outfile)\n",
    "    with open(file, 'r') as f:\n",
    "        data = yaml.safe_load(f)\n",
    "    return data"
   ]
  },
  {
   "cell_type": "code",
   "execution_count": 40,
   "id": "82e3d782-7f82-4f2e-a49f-4aaf6f2d6347",
   "metadata": {},
   "outputs": [],
   "source": [
    "import yaml\n",
    "\n",
    "trex_sample_yaml = 'new_yaml.yaml'\n",
    "with open(trex_sample_yaml, 'r') as f:\n",
    "    data = yaml.safe_load(f)"
   ]
  },
  {
   "cell_type": "markdown",
   "id": "1f97b005-a477-45da-ab70-d104550e2f58",
   "metadata": {},
   "source": [
    "## NEED TO HAVE A SPACE BETWEEN THE NTUPLE FILES AND THE LIST"
   ]
  },
  {
   "cell_type": "code",
   "execution_count": 55,
   "id": "b0aa3f7c-17f4-45eb-91e2-c4ab4a2964ed",
   "metadata": {},
   "outputs": [],
   "source": [
    "data = read_trex_samples('trex_samples.yaml', 'configs/formatted_trex_samples.yaml')"
   ]
  },
  {
   "cell_type": "code",
   "execution_count": 56,
   "id": "edb81ea3-754e-4bab-8d80-77f9b87ece8f",
   "metadata": {},
   "outputs": [
    {
     "data": {
      "text/plain": [
       "{'SR_1_VLL_ED500_0Z0b': {'Type': 'SIGNAL',\n",
       "  'Title': 'VLL E 500',\n",
       "  'TexTitle': '$t\\x08ar{t}H$',\n",
       "  'Group': 'NN#rightarrowWWll',\n",
       "  'FillColor': 1,\n",
       "  'LineColor': 1,\n",
       "  'NtuplePath': 'XXX_Signal_Path',\n",
       "  'NtupleFiles': 'mc16a/p4416//512075, mc16d/p4416//512075_AF, mc16e/p4416//512075_AF',\n",
       "  'Selection': 'VLL_type==3 && VLL_decaytype==3',\n",
       "  'MCweight': 'XXX_MC_WEIGHT**2'},\n",
       " 'SR_2_VLL_MD500_2Z0b': {'Type': 'SIGNAL',\n",
       "  'Title': 'VLL M 500',\n",
       "  'TexTitle': '$t\\x08ar{t}H$',\n",
       "  'Group': 'LL#rightarrowZZll',\n",
       "  'FillColor': 1,\n",
       "  'LineColor': 1,\n",
       "  'NtuplePath': 'XXX_Signal_Path',\n",
       "  'NtupleFiles': 'mc16a/p4416/512114, mc16d/p4416/512114_AF, mc16e/p4416/512114_AF',\n",
       "  'Selection': 'VLL_type==1 && VLL_decaytype==1',\n",
       "  'MCweight': 'XXX_MC_WEIGHT**2'},\n",
       " 'SR_3_VLL_MD500_0Z1b': {'Type': 'SIGNAL',\n",
       "  'Title': 'VLL E 400',\n",
       "  'TexTitle': '$t\\x08ar{t}H$',\n",
       "  'Group': 'LL#rightarrowHHll',\n",
       "  'FillColor': 632,\n",
       "  'LineColor': 1,\n",
       "  'NtuplePath': 'XXX_Signal_Path',\n",
       "  'NtupleFiles': 'mc16a/p4416/512101, mc16d/p4416/512101_AF, mc16e/p4416/512101_AF',\n",
       "  'Selection': 'VLL_type==1 && VLL_decaytype==2',\n",
       "  'MCweight': 'XXX_MC_WEIGHT**2'},\n",
       " 'SR_4_VLL_MD500_2Z0b_2sfos': {'Type': 'SIGNAL',\n",
       "  'Title': 'VLL E 400',\n",
       "  'TexTitle': '$t\\x08ar{t}H$',\n",
       "  'Group': 'LL#rightarrowHZll',\n",
       "  'FillColor': 632,\n",
       "  'LineColor': 1,\n",
       "  'NtuplePath': 'XXX_Signal_Path',\n",
       "  'NtupleFiles': 'mc16a/p4416/512101, mc16d/p4416/512101_AF, mc16e/p4416/512101_AF',\n",
       "  'Selection': 'VLL_type==1 && VLL_decaytype==4',\n",
       "  'MCweight': 'XXX_MC_WEIGHT**2'},\n",
       " 'Data': {'Type': 'DATA',\n",
       "  'Title': 'Data',\n",
       "  'TexTitle': '$Data$',\n",
       "  'NtupleFiles': 'data/data15, data/data16, data/data17, data/data18'},\n",
       " 'VV': {'Type': 'BACKGROUND',\n",
       "  'Title': 'VV',\n",
       "  'TexTitle': '$VV$+light',\n",
       "  'Group': 'VV',\n",
       "  'FillColor': 417,\n",
       "  'LineColor': 1,\n",
       "  'NtupleFiles': 'XXX_VV_samples, XXX_ggVV_samples',\n",
       "  'Selection': 'XXX_NONQMISID  && XXX_PROMPT',\n",
       "  'MCweight': 'XXX_MC_WEIGHT**2'},\n",
       " 'threeV': {'Type': 'BACKGROUND',\n",
       "  'Title': '#it{VVV}',\n",
       "  'TexTitle': '$VVV$',\n",
       "  'Group': 'VVV',\n",
       "  'FillColor': 616,\n",
       "  'LineColor': 1,\n",
       "  'NtupleFiles': 'XXX_VVV_samples',\n",
       "  'Selection': 'XXX_NONQMISID  && XXX_PROMPT',\n",
       "  'MCweight': 'XXX_MC_WEIGHT**2'},\n",
       " 'VH': {'Type': 'BACKGROUND',\n",
       "  'Title': '#it{VH}',\n",
       "  'TexTitle': '$VH$',\n",
       "  'Group': 'VH',\n",
       "  'FillColor': 609,\n",
       "  'LineColor': 1,\n",
       "  'NtupleFiles': 'XXX_VH_alt_samples',\n",
       "  'Selection': 'XXX_NONQMISID  && XXX_PROMPT',\n",
       "  'MCweight': 'XXX_MC_WEIGHT**2'},\n",
       " 'ttZ': {'Type': 'BACKGROUND',\n",
       "  'Title': 't#bar{t}(Z/#gamma*)',\n",
       "  'TexTitle': '$t\\\\bar{t}Z/\\\\gamma$',\n",
       "  'Group': 't#bar{t}Z',\n",
       "  'FillColor': 870,\n",
       "  'LineColor': 1,\n",
       "  'NtupleFiles': 'XXX_ttZalt_samples',\n",
       "  'Selection': 'XXX_NONQMISID  && XXX_PROMPT',\n",
       "  'MCweight': 'XXX_MC_WEIGHT**2#*1.31/1.67'},\n",
       " 'fourTop': {'Type': 'BACKGROUND',\n",
       "  'Title': 'Four top',\n",
       "  'FillColor': 857,\n",
       "  'Group': 'Other Top',\n",
       "  'LineColor': 1,\n",
       "  'NtupleFiles': 'XXX_fourTop_samples',\n",
       "  'Selection': 'XXX_NONQMISID && XXX_PROMPT',\n",
       "  'MCweight': 'XXX_MC_WEIGHT**2'},\n",
       " 'WttW': {'Type': 'BACKGROUND',\n",
       "  'Title': '#it{t#bar{t}WW}',\n",
       "  'TexTitle': '$t\\\\bar{t}WW$',\n",
       "  'Group': 'Other Top',\n",
       "  'FillColor': 857,\n",
       "  'LineColor': 1,\n",
       "  'NtupleFiles': 'XXX_ttWW_samples',\n",
       "  'Selection': 'XXX_NONQMISID && XXX_PROMPT',\n",
       "  'MCweight': 'XXX_MC_WEIGHT**2'},\n",
       " 'ttH': {'Type': 'BACKGROUND',\n",
       "  'Title': 't#bar{t}H',\n",
       "  'TexTitle': '$t\\x08ar{t}H$',\n",
       "  'Group': 't#bar{t}H',\n",
       "  'FillColor': 859,\n",
       "  'LineColor': 1,\n",
       "  'NtupleFiles': 'XXX_ttH_samples',\n",
       "  'Selection': 'XXX_NONQMISID && XXX_PROMPT',\n",
       "  'MCweight': 'XXX_MC_WEIGHT**2'},\n",
       " 'WtZ': {'Type': 'BACKGROUND',\n",
       "  'Title': '#it{WtZ}',\n",
       "  'TexTitle': '$WtZ$',\n",
       "  'Group': 'Other Top',\n",
       "  'FillColor': 857,\n",
       "  'LineColor': 1,\n",
       "  'NtupleFiles': 'XXX_WtZ_samples',\n",
       "  'Selection': 'XXX_NONQMISID  && XXX_PROMPT',\n",
       "  'MCweight': 'XXX_MC_WEIGHT**2'},\n",
       " 'Fakes_nonPrompt': {'Type': 'BACKGROUND',\n",
       "  'Title': 'Prompt',\n",
       "  'TexTitle': 'Non-prompt',\n",
       "  'FillColor': 632,\n",
       "  'LineColor': 1,\n",
       "  'NtupleFiles': 'XXX_ALL',\n",
       "  'Selection': 'XXX_NONQMISID && !XXX_PROMPT',\n",
       "  'Group': 'Non-prompt',\n",
       "  'MCweight': 'XXX_MC_WEIGHT**2'}}"
      ]
     },
     "execution_count": 56,
     "metadata": {},
     "output_type": "execute_result"
    }
   ],
   "source": [
    "data"
   ]
  },
  {
   "cell_type": "code",
   "execution_count": 57,
   "id": "bb0f7c80-a381-4bf5-9903-b51d60782240",
   "metadata": {},
   "outputs": [
    {
     "name": "stdout",
     "output_type": "stream",
     "text": [
      "VV :  XXX_VV_samples, XXX_ggVV_samples\n",
      "threeV :  XXX_VVV_samples\n",
      "VH :  XXX_VH_alt_samples\n",
      "ttZ :  XXX_ttZalt_samples\n",
      "fourTop :  XXX_fourTop_samples\n",
      "WttW :  XXX_ttWW_samples\n",
      "ttH :  XXX_ttH_samples\n",
      "WtZ :  XXX_WtZ_samples\n",
      "Fakes_nonPrompt :  XXX_ALL\n"
     ]
    }
   ],
   "source": [
    "for sample, info in data.items():\n",
    "    if info['Type'] != 'BACKGROUND':\n",
    "        continue\n",
    "    print(sample,': ', info['NtupleFiles'])"
   ]
  },
  {
   "cell_type": "code",
   "execution_count": null,
   "id": "1caac396-e1e2-4565-85c5-e2dd51eb7c8e",
   "metadata": {},
   "outputs": [],
   "source": []
  }
 ],
 "metadata": {
  "kernelspec": {
   "display_name": "ml_env_kernel",
   "language": "python",
   "name": "ml_env_kernel"
  },
  "language_info": {
   "codemirror_mode": {
    "name": "ipython",
    "version": 3
   },
   "file_extension": ".py",
   "mimetype": "text/x-python",
   "name": "python",
   "nbconvert_exporter": "python",
   "pygments_lexer": "ipython3",
   "version": "3.10.5"
  }
 },
 "nbformat": 4,
 "nbformat_minor": 5
}
