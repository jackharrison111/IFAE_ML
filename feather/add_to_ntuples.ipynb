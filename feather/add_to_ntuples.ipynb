{
 "cells": [
  {
   "cell_type": "code",
   "execution_count": 1,
   "id": "b4c631d9-57b7-4e8d-a686-99cf6d770665",
   "metadata": {},
   "outputs": [],
   "source": [
    "import uproot"
   ]
  },
  {
   "cell_type": "code",
   "execution_count": 2,
   "id": "3a950e6f-bc74-4410-bf73-c815a29ec744",
   "metadata": {},
   "outputs": [],
   "source": [
    "root_path = '/data/at3/scratch3/jharrison/nominal/mc16a/'\n",
    "root_file = '364250.root'\n",
    "mod_path = '/data/at3/scratch3/jharrison/test_mod_ntuples'"
   ]
  },
  {
   "cell_type": "code",
   "execution_count": 3,
   "id": "d77b7c86-2f95-4ebc-9233-e9663afba46a",
   "metadata": {},
   "outputs": [
    {
     "data": {
      "text/plain": [
       "<WritableDirectory '/' at 0x2b6f712668c0>"
      ]
     },
     "execution_count": 3,
     "metadata": {},
     "output_type": "execute_result"
    }
   ],
   "source": [
    "uproot.recreate(mod_path+root_file)"
   ]
  },
  {
   "cell_type": "code",
   "execution_count": 9,
   "id": "d57f5378-1385-4e1f-86e4-265a4379d4e5",
   "metadata": {},
   "outputs": [
    {
     "ename": "AttributeError",
     "evalue": "'Model_TTree_v20' object has no attribute 'array'",
     "output_type": "error",
     "traceback": [
      "\u001b[0;31m---------------------------------------------------------------------------\u001b[0m",
      "\u001b[0;31mAttributeError\u001b[0m                            Traceback (most recent call last)",
      "Input \u001b[0;32mIn [9]\u001b[0m, in \u001b[0;36m<cell line: 1>\u001b[0;34m()\u001b[0m\n\u001b[1;32m      1\u001b[0m \u001b[38;5;28;01mwith\u001b[39;00m uproot\u001b[38;5;241m.\u001b[39mopen(root_path\u001b[38;5;241m+\u001b[39mroot_file\u001b[38;5;241m+\u001b[39m\u001b[38;5;124m'\u001b[39m\u001b[38;5;124m:nominal\u001b[39m\u001b[38;5;124m'\u001b[39m) \u001b[38;5;28;01mas\u001b[39;00m events:\u001b[38;5;66;03m#\u001b[39;00m\n\u001b[0;32m----> 2\u001b[0m     data \u001b[38;5;241m=\u001b[39m \u001b[43mevents\u001b[49m\u001b[38;5;241;43m.\u001b[39;49m\u001b[43marray\u001b[49m(library\u001b[38;5;241m=\u001b[39m\u001b[38;5;124m\"\u001b[39m\u001b[38;5;124mpd\u001b[39m\u001b[38;5;124m\"\u001b[39m)\n\u001b[1;32m      3\u001b[0m     data\u001b[38;5;241m.\u001b[39mhead()\n",
      "\u001b[0;31mAttributeError\u001b[0m: 'Model_TTree_v20' object has no attribute 'array'"
     ]
    }
   ],
   "source": [
    "\n",
    "with uproot.open(root_path+root_file+':nominal') as events:#\n",
    "    data = events.array(library=\"pd\")\n",
    "    data.head()\n",
    "#tree_all = f.arrays(library=\"pd\")"
   ]
  },
  {
   "cell_type": "code",
   "execution_count": null,
   "id": "d5e135d4-8f0a-4c6e-820f-5518b9598e14",
   "metadata": {},
   "outputs": [],
   "source": []
  }
 ],
 "metadata": {
  "kernelspec": {
   "display_name": "ml_env_kernel",
   "language": "python",
   "name": "ml_env_kernel"
  },
  "language_info": {
   "codemirror_mode": {
    "name": "ipython",
    "version": 3
   },
   "file_extension": ".py",
   "mimetype": "text/x-python",
   "name": "python",
   "nbconvert_exporter": "python",
   "pygments_lexer": "ipython3",
   "version": "3.10.5"
  }
 },
 "nbformat": 4,
 "nbformat_minor": 5
}
